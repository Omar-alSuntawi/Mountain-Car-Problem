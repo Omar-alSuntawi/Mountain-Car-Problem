{
 "cells": [
  {
   "cell_type": "code",
   "execution_count": 3,
   "metadata": {},
   "outputs": [],
   "source": [
    "import sys\n",
    "import gym\n",
    "import numpy as np\n",
    "import itertools\n",
    "import pandas as pd\n",
    "import matplotlib.pyplot as plt\n",
    "import random\n",
    "# Set plotting options\n",
    "%matplotlib inline\n",
    "plt.style.use('ggplot')\n",
    "np.set_printoptions(precision=3, linewidth=120)"
   ]
  },
  {
   "cell_type": "code",
   "execution_count": 4,
   "metadata": {},
   "outputs": [],
   "source": [
    "# Create an environment and set random seed\n",
    "env = gym.make('MountainCar-v0')\n",
    "env.seed(505);"
   ]
  },
  {
   "cell_type": "code",
   "execution_count": 5,
   "metadata": {},
   "outputs": [
    {
     "name": "stdout",
     "output_type": "stream",
     "text": [
      "Final score: -200.0\n"
     ]
    }
   ],
   "source": [
    "state = env.reset()\n",
    "score = 0\n",
    "for t in range(200):\n",
    "    action = env.action_space.sample()\n",
    "    env.render()\n",
    "    state, reward, done, _ = env.step(action)\n",
    "    score += reward\n",
    "    if done:\n",
    "        break \n",
    "print('Final score:', score)\n",
    "env.close()"
   ]
  },
  {
   "cell_type": "code",
   "execution_count": 6,
   "metadata": {},
   "outputs": [
    {
     "name": "stdout",
     "output_type": "stream",
     "text": [
      "State space: Box(2,)\n",
      "- low: [-1.2  -0.07]\n",
      "- high: [0.6  0.07]\n"
     ]
    }
   ],
   "source": [
    "# Explore state (observation) space\n",
    "print(\"State space:\", env.observation_space)\n",
    "print(\"- low:\", env.observation_space.low)\n",
    "print(\"- high:\", env.observation_space.high)"
   ]
  },
  {
   "cell_type": "code",
   "execution_count": 7,
   "metadata": {},
   "outputs": [
    {
     "name": "stdout",
     "output_type": "stream",
     "text": [
      "State space samples:\n",
      "[[ 0.281 -0.006]\n",
      " [-0.851  0.045]\n",
      " [-0.996  0.065]\n",
      " [-0.413  0.056]\n",
      " [-0.58   0.058]\n",
      " [-0.01  -0.056]\n",
      " [ 0.209 -0.047]\n",
      " [-0.2    0.01 ]\n",
      " [-0.85   0.002]\n",
      " [-0.793  0.059]]\n"
     ]
    }
   ],
   "source": [
    "# Generate some samples from the state space \n",
    "print(\"State space samples:\")\n",
    "print(np.array([env.observation_space.sample() for i in range(10)]))"
   ]
  },
  {
   "cell_type": "code",
   "execution_count": 8,
   "metadata": {},
   "outputs": [
    {
     "name": "stdout",
     "output_type": "stream",
     "text": [
      "Action space: Discrete(3)\n",
      "Action space samples:\n",
      "[0 2 1 1 2 1 0 2 1 0]\n"
     ]
    }
   ],
   "source": [
    "print(\"Action space:\", env.action_space)\n",
    "\n",
    "# Generate some samples from the action space\n",
    "print(\"Action space samples:\")\n",
    "print(np.array([env.action_space.sample() for i in range(10)]))"
   ]
  },
  {
   "cell_type": "code",
   "execution_count": 9,
   "metadata": {},
   "outputs": [],
   "source": [
    "def create_uniform_grid(low, high, bins=(10, 10)):\n",
    "    \"\"\"Define a uniformly-spaced grid that can be used to discretize a space.\n",
    "    \n",
    "    Parameters\n",
    "    ----------\n",
    "    low : array_like\n",
    "        Lower bounds for each dimension of the continuous space.\n",
    "    high : array_like\n",
    "        Upper bounds for each dimension of the continuous space.\n",
    "    bins : tuple\n",
    "        Number of bins along each corresponding dimension.\n",
    "    \n",
    "    Returns\n",
    "    -------\n",
    "    grid : list of array_like\n",
    "        A list of arrays containing split points for each dimension.\n",
    "    \"\"\"\n",
    "    grid = []\n",
    "    for i in range(len(bins)):\n",
    "        step = (high[i] - low[i]) / bins[i]\n",
    "        grid.append(np.linspace(low[i]+step, high[i] ,endpoint=False, num=bins[i]-1))\n",
    "    \n",
    "    return grid\n",
    "        \n"
   ]
  },
  {
   "cell_type": "code",
   "execution_count": 10,
   "metadata": {},
   "outputs": [
    {
     "name": "stdout",
     "output_type": "stream",
     "text": [
      "splits for 10 bins\n",
      " [array([-0.8, -0.6, -0.4, -0.2,  0. ,  0.2,  0.4,  0.6,  0.8]), array([-4., -3., -2., -1.,  0.,  1.,  2.,  3.,  4.])]\n",
      "__________\n",
      "splits for 15 bins\n",
      " [array([-0.867, -0.733, -0.6  , -0.467, -0.333, -0.2  , -0.067,  0.067,  0.2  ,  0.333,  0.467,  0.6  ,  0.733,  0.867]), array([-4.333, -3.667, -3.   , -2.333, -1.667, -1.   , -0.333,  0.333,  1.   ,  1.667,  2.333,  3.   ,  3.667,  4.333])]\n",
      "__________\n",
      "splits for 5 bins\n",
      " [array([-0.6, -0.2,  0.2,  0.6]), array([-3., -1.,  1.,  3.])]\n"
     ]
    }
   ],
   "source": [
    "# Testing the grid for different bins, default is 10\n",
    "low = [-1.0, -5.0]   \n",
    "high = [1.0, 5.0]\n",
    "grid = create_uniform_grid(low, high)   #Printing the two states\n",
    "print(\"splits for 10 bins\\n\" , grid)\n",
    "print(\"__________\")\n",
    "\n",
    "bins = (15,15)\n",
    "grid = create_uniform_grid(low, high, bins)\n",
    "print(\"splits for 15 bins\\n\" , grid)\n",
    "print(\"__________\")\n",
    "\n",
    "bins = (5,5)\n",
    "grid = create_uniform_grid(low, high, bins)\n",
    "print(\"splits for 5 bins\\n\" , grid)"
   ]
  },
  {
   "cell_type": "code",
   "execution_count": 11,
   "metadata": {},
   "outputs": [],
   "source": [
    "def discretize(sample, grid):\n",
    "    \"\"\"Discretize a sample as per given grid.\n",
    "    \n",
    "    Parameters\n",
    "    ----------\n",
    "    sample : array_like\n",
    "        A single sample from the (original) continuous space.\n",
    "    grid : list of array_like\n",
    "        A list of arrays containing split points for each dimension.\n",
    "    \n",
    "    Returns\n",
    "    -------\n",
    "    discretized_sample : array_like\n",
    "        A sequence of integers with the same number of dimensions as sample.\n",
    "    \"\"\"\n",
    "    dim = len(np.transpose(sample))\n",
    "    discrete = np.zeros((dim,), dtype=int)\n",
    "    for j in range(dim):\n",
    "            discrete[j] = int(np.digitize(sample[j], grid[j]))\n",
    "            \n",
    "    return discrete\n",
    "            \n",
    "            \n",
    "    "
   ]
  },
  {
   "cell_type": "code",
   "execution_count": 12,
   "metadata": {},
   "outputs": [
    {
     "name": "stdout",
     "output_type": "stream",
     "text": [
      "\n",
      "Samples:\n",
      "array([[-1.  , -5.  ],\n",
      "       [-0.81, -4.1 ],\n",
      "       [-0.8 , -4.  ],\n",
      "       [-0.5 ,  0.  ],\n",
      "       [ 0.2 , -1.9 ],\n",
      "       [ 0.8 ,  4.  ],\n",
      "       [ 0.81,  4.1 ],\n",
      "       [ 1.  ,  5.  ]])\n",
      "\n",
      "Discretized samples for 10 bins:\n",
      "array([[0, 0],\n",
      "       [0, 0],\n",
      "       [1, 1],\n",
      "       [2, 5],\n",
      "       [6, 3],\n",
      "       [9, 9],\n",
      "       [9, 9],\n",
      "       [9, 9]])\n",
      "\n",
      "Samples:\n",
      "array([[-1.  , -5.  ],\n",
      "       [-0.81, -4.1 ],\n",
      "       [-0.8 , -4.  ],\n",
      "       [-0.5 ,  0.  ],\n",
      "       [ 0.2 , -1.9 ],\n",
      "       [ 0.8 ,  4.  ],\n",
      "       [ 0.81,  4.1 ],\n",
      "       [ 1.  ,  5.  ]])\n",
      "\n",
      "Discretized samples for 20 bins:\n",
      "array([[0, 0],\n",
      "       [0, 0],\n",
      "       [1, 1],\n",
      "       [2, 5],\n",
      "       [6, 3],\n",
      "       [9, 9],\n",
      "       [9, 9],\n",
      "       [9, 9]])\n",
      "\n",
      "Samples:\n",
      "array([[-1.  , -5.  ],\n",
      "       [-0.81, -4.1 ],\n",
      "       [-0.8 , -4.  ],\n",
      "       [-0.5 ,  0.  ],\n",
      "       [ 0.2 , -1.9 ],\n",
      "       [ 0.8 ,  4.  ],\n",
      "       [ 0.81,  4.1 ],\n",
      "       [ 1.  ,  5.  ]])\n",
      "\n",
      "Discretized samples for 5 bins:\n",
      "array([[0, 0],\n",
      "       [0, 0],\n",
      "       [1, 1],\n",
      "       [2, 5],\n",
      "       [6, 3],\n",
      "       [9, 9],\n",
      "       [9, 9],\n",
      "       [9, 9]])\n",
      "\n",
      "Samples:\n",
      "array([[-1.  , -5.  ],\n",
      "       [-0.81, -4.1 ],\n",
      "       [-0.8 , -4.  ],\n",
      "       [-0.5 ,  0.  ],\n",
      "       [ 0.2 , -1.9 ],\n",
      "       [ 0.8 ,  4.  ],\n",
      "       [ 0.81,  4.1 ],\n",
      "       [ 1.  ,  5.  ]])\n",
      "\n",
      "Discretized samples for 50 bins:\n",
      "array([[0, 0],\n",
      "       [0, 0],\n",
      "       [1, 1],\n",
      "       [2, 5],\n",
      "       [6, 3],\n",
      "       [9, 9],\n",
      "       [9, 9],\n",
      "       [9, 9]])\n"
     ]
    }
   ],
   "source": [
    "# Test with a simple grid and some samples\n",
    "grid = create_uniform_grid([-1.0, -5.0], [1.0, 5.0])\n",
    "grid_20 = create_uniform_grid([-1.0, -5.0], [1.0, 5.0],(20,20))\n",
    "grid_5 = create_uniform_grid([-1.0, -5.0], [1.0, 5.0], (5,5))\n",
    "grid_50 = create_uniform_grid([-1.0, -5.0], [1.0, 5.0], (50,50))\n",
    "samples = np.array(\n",
    "    [[-1.0 , -5.0],\n",
    "     [-0.81, -4.1],\n",
    "     [-0.8 , -4.0],\n",
    "     [-0.5 ,  0.0],\n",
    "     [ 0.2 , -1.9],\n",
    "     [ 0.8 ,  4.0],\n",
    "     [ 0.81,  4.1],\n",
    "     [ 1.0 ,  5.0]])\n",
    "\n",
    "\n",
    "discretized_samples = np.array([discretize(sample, grid) for sample in samples])\n",
    "print(\"\\nSamples:\", repr(samples), sep=\"\\n\")\n",
    "print(\"\\nDiscretized samples for 10 bins:\", repr(discretized_samples), sep=\"\\n\")\n",
    "\n",
    "discretized_samples_20 = np.array([discretize(sample, grid_20) for sample in samples])\n",
    "print(\"\\nSamples:\", repr(samples), sep=\"\\n\")\n",
    "print(\"\\nDiscretized samples for 20 bins:\", repr(discretized_samples), sep=\"\\n\")\n",
    "\n",
    "discretized_samples_5 = np.array([discretize(sample, grid_5) for sample in samples])\n",
    "print(\"\\nSamples:\", repr(samples), sep=\"\\n\")\n",
    "print(\"\\nDiscretized samples for 5 bins:\", repr(discretized_samples), sep=\"\\n\")\n",
    "\n",
    "discretized_samples_50 = np.array([discretize(sample, grid_50) for sample in samples])\n",
    "print(\"\\nSamples:\", repr(samples), sep=\"\\n\")\n",
    "print(\"\\nDiscretized samples for 50 bins:\", repr(discretized_samples), sep=\"\\n\")"
   ]
  },
  {
   "cell_type": "code",
   "execution_count": 13,
   "metadata": {},
   "outputs": [],
   "source": [
    "import matplotlib.collections as mc\n",
    "\n",
    "def visualize_samples(samples, discretized_samples, grid, low=None, high=None):\n",
    "    \"\"\"Visualize original and discretized samples on a given 2-dimensional grid.\"\"\"\n",
    "\n",
    "    fig, ax = plt.subplots(figsize=(10, 10))\n",
    "    \n",
    "    # Show grid\n",
    "    ax.xaxis.set_major_locator(plt.FixedLocator(grid[0]))\n",
    "    ax.yaxis.set_major_locator(plt.FixedLocator(grid[1]))\n",
    "    ax.grid(True)\n",
    "    \n",
    "    # If bounds (low, high) are specified, use them to set axis limits\n",
    "    if low is not None and high is not None:\n",
    "        ax.set_xlim(low[0], high[0])\n",
    "        ax.set_ylim(low[1], high[1])\n",
    "    else:\n",
    "        # Otherwise use first, last grid locations as low, high (for further mapping discretized samples)\n",
    "        low = [splits[0] for splits in grid]\n",
    "        high = [splits[-1] for splits in grid]\n",
    "\n",
    "    # Map each discretized sample (which is really an index) to the center of corresponding grid cell\n",
    "    grid_extended = np.hstack((np.array([low]).T, grid, np.array([high]).T))  # add low and high ends\n",
    "    grid_centers = (grid_extended[:, 1:] + grid_extended[:, :-1]) / 2  # compute center of each grid cell\n",
    "    locs = np.stack(grid_centers[i, discretized_samples[:, i]] for i in range(len(grid))).T  # map discretized samples\n",
    "\n",
    "    ax.plot(samples[:, 0], samples[:, 1], 'o')  # plot original samples\n",
    "    ax.plot(locs[:, 0], locs[:, 1], 's')  # plot discretized samples in mapped locations\n",
    "    ax.add_collection(mc.LineCollection(list(zip(samples, locs)), colors='orange'))  # add a line connecting each original-discretized sample\n",
    "    ax.legend(['original', 'discretized'])\n",
    "\n"
   ]
  },
  {
   "cell_type": "code",
   "execution_count": null,
   "metadata": {},
   "outputs": [],
   "source": [
    "# Default, 10 bins\n",
    "visualize_samples(samples, discretized_samples, grid, low, high)\n"
   ]
  },
  {
   "cell_type": "code",
   "execution_count": null,
   "metadata": {},
   "outputs": [],
   "source": [
    "visualize_samples(samples, discretized_samples_5, grid_5, low, high)"
   ]
  },
  {
   "cell_type": "code",
   "execution_count": null,
   "metadata": {},
   "outputs": [],
   "source": [
    "visualize_samples(samples, discretized_samples_20, grid_20, low, high)"
   ]
  },
  {
   "cell_type": "code",
   "execution_count": null,
   "metadata": {},
   "outputs": [],
   "source": [
    "visualize_samples(samples, discretized_samples_50, grid_50, low, high)"
   ]
  },
  {
   "cell_type": "code",
   "execution_count": null,
   "metadata": {},
   "outputs": [],
   "source": [
    "# Create a grid to discretize the state space\n",
    "state_grid = create_uniform_grid(env.observation_space.low, env.observation_space.high, bins=(10, 10))\n",
    "state_grid"
   ]
  },
  {
   "cell_type": "code",
   "execution_count": null,
   "metadata": {},
   "outputs": [],
   "source": [
    "# Obtain some samples from the space, discretize them, and then visualize them\n",
    "state_samples = np.array([env.observation_space.sample() for i in range(10)])\n",
    "discretized_state_samples = np.array([discretize(sample, state_grid) for sample in state_samples])\n",
    "visualize_samples(state_samples, discretized_state_samples, state_grid,\n",
    "                  env.observation_space.low, env.observation_space.high)\n",
    "plt.xlabel('position'); plt.ylabel('velocity');  # axis labels for MountainCar-v0 state space"
   ]
  },
  {
   "cell_type": "code",
   "execution_count": null,
   "metadata": {},
   "outputs": [],
   "source": [
    "# Create a grid to discretize the state space\n",
    "state_grid_20 = create_uniform_grid(env.observation_space.low, env.observation_space.high, bins=(20, 20))\n",
    "state_grid\n",
    "\n",
    "# Obtain some samples from the space, discretize them, and then visualize them\n",
    "state_samples = np.array([env.observation_space.sample() for i in range(10)])\n",
    "discretized_state_samples_20 = np.array([discretize(sample, state_grid_20) for sample in state_samples])\n",
    "visualize_samples(state_samples, discretized_state_samples_20, state_grid_20,\n",
    "                  env.observation_space.low, env.observation_space.high)\n",
    "plt.xlabel('position'); plt.ylabel('velocity');  # axis labels for MountainCar-v0 state space"
   ]
  },
  {
   "cell_type": "code",
   "execution_count": null,
   "metadata": {},
   "outputs": [],
   "source": [
    "# Create a grid to discretize the state space\n",
    "state_grid_50 = create_uniform_grid(env.observation_space.low, env.observation_space.high, bins=(50, 50))\n",
    "state_grid\n",
    "\n",
    "# Obtain some samples from the space, discretize them, and then visualize them\n",
    "state_samples = np.array([env.observation_space.sample() for i in range(10)])\n",
    "discretized_state_samples_50 = np.array([discretize(sample, state_grid_50) for sample in state_samples])\n",
    "visualize_samples(state_samples, discretized_state_samples_50, state_grid_50,\n",
    "                  env.observation_space.low, env.observation_space.high)\n",
    "plt.xlabel('position'); plt.ylabel('velocity');  # axis labels for MountainCar-v0 state space"
   ]
  },
  {
   "cell_type": "code",
   "execution_count": 94,
   "metadata": {},
   "outputs": [],
   "source": [
    "def q_learning_discrete(env, num_episodes, alpha=0.02, discount_factor=0.99, bins = (10,10)):\n",
    "    \"\"\"\n",
    "    Q learning algorithm, off-polics TD control. Finds optimal gready policies\n",
    "    Args:\n",
    "    - env: Given environment to solve\n",
    "    - num_episodes: Number of episodes to learn\n",
    "    - alpha: learning rate\n",
    "    - discount factor: weight/importance given to future rewards\n",
    "    - epsilon: probability of taking random action. \n",
    "             We are using decaying epsilon, \n",
    "             i.e high randomness at beginning and low towards end\n",
    "    Returns:\n",
    "    - Optimal Q\n",
    "    \"\"\"\n",
    "     \n",
    "    # decaying epsilon, i.e we will divide num of episodes passed\n",
    "    epsilon = 1.0\n",
    "    score = 0.0\n",
    "    epsilon_decay_rate=0.9995\n",
    "    scores = []\n",
    "    avg_score = 0\n",
    "    max_avg_score = -np.inf\n",
    "    # create a numpy array filled with zeros \n",
    "    # rows = number of observations & cols = possible actions\n",
    "    \n",
    "    state_grid = create_uniform_grid(env.observation_space.low, env.observation_space.high, bins)\n",
    "    q_table = np.zeros((env.action_space.n, bins[0], bins[1])) \n",
    "    \n",
    "    for i_episode in range(num_episodes):\n",
    "            # reset the env\n",
    "            state = env.reset()\n",
    "            total_reward = 0\n",
    "            discrete_state = np.array(discretize(state, state_grid)) \n",
    "            \n",
    "            # itertools.count() has similar to 'while True:'\n",
    "            for t in itertools.count():\n",
    "                # generate a random num between 0 and 1 e.g. 0.35, 0.73 etc..\n",
    "                # if the generated num is smaller than epsilon, we follow exploration policy \n",
    "                if random.uniform(0, 1) < epsilon:\n",
    "                    action = env.action_space.sample()\n",
    "                    # select a random action from set of all actions\n",
    "                else:\n",
    "                    action = np.argmax(q_table[:, discrete_state[0], discrete_state[1]])\n",
    "                    # if the generated num is greater than epsilon, we follow exploitation policy\n",
    "                    # select an action with highest value for current state\n",
    "                    \n",
    "                next_state, reward, is_finished, info = env.step(action)\n",
    "                discrete_next_state = np.array(discretize(next_state, state_grid))\n",
    "                \n",
    "                # apply selected action, collect values for next_state and reward\n",
    "                old_value = q_table[action, discrete_state[0], discrete_state[1]]\n",
    "                next_max  = np.max(q_table[:, discrete_next_state[0], discrete_next_state[1]])\n",
    "                new_value = old_value+(alpha*(reward+(discount_factor*next_max)-old_value))\n",
    "                # Update the Q table, alpha is the learning rate\n",
    "                q_table[action, discrete_state[0], discrete_state[1]] = new_value\n",
    "                \n",
    "                # break if done, i.e. if end of this episode\n",
    "                if is_finished:\n",
    "                    scores.append(total_reward)\n",
    "                    if len(scores) > 100:\n",
    "                        avg_score = np.mean(scores[-100:])\n",
    "                        if avg_score > max_avg_score:\n",
    "                            max_avg_score = avg_score\n",
    "                    if i_episode % 100 == 0:\n",
    "                        print(\"\\rEpisode {}/{} | Max Average Score: {}\".format(i_episode, num_episodes, max_avg_score), end=\"\")\n",
    "                        sys.stdout.flush()\n",
    "                    break\n",
    "                    \n",
    "                # make the next_state into current state as we go for next iteration\n",
    "                discrete_state = discrete_next_state\n",
    "                #env.render()\n",
    "                total_reward += reward\n",
    "                    \n",
    "            if epsilon > 0.1:\n",
    "                epsilon *= epsilon_decay_rate\n",
    "                \n",
    "                \n",
    "    final_s = 0\n",
    "    final_s = avg_score\n",
    "    print(\"Training finished.\\n\")\n",
    "    print(\"Final score is \", final_s)\n",
    "    print(q_table)\n",
    "    \n",
    "    return q_table,scores   # return optimal Q"
   ]
  },
  {
   "cell_type": "code",
   "execution_count": 105,
   "metadata": {},
   "outputs": [
    {
     "name": "stdout",
     "output_type": "stream",
     "text": [
      "Episode 49900/50000 | Max Average Score: -137.41Training finished.\n",
      "\n",
      "Final score is  -180.53\n",
      "[[[-69.845 -78.258 -79.079 -79.382 -79.181 -78.889 -77.955 -76.468   0.      0.   ]\n",
      "  [-77.232 -79.169 -79.988 -80.366 -80.451 -80.483 -79.696 -77.623 -75.904   0.   ]\n",
      "  [-78.313 -80.135 -81.402 -83.084 -85.139 -85.209 -82.39  -78.694 -77.015  -2.191]\n",
      "  [-78.495 -80.493 -81.885 -83.728 -87.564 -88.223 -84.617 -79.923 -76.859 -71.796]\n",
      "  [-78.307 -80.534 -81.848 -83.172 -87.637 -87.851 -85.096 -80.523 -76.653 -73.013]\n",
      "  [-69.388 -79.788 -80.939 -82.631 -83.648 -84.35  -84.121 -79.506 -75.882 -72.528]\n",
      "  [  0.    -78.169 -80.536 -81.32  -82.588 -82.932 -81.582 -76.562 -74.242 -56.828]\n",
      "  [  0.      0.    -79.276 -81.004 -81.594 -81.54  -77.932 -73.241 -70.186   0.   ]\n",
      "  [  0.      0.     -2.596 -79.343 -80.629 -78.271 -73.204 -69.342 -55.572   0.   ]\n",
      "  [  0.      0.      0.     -1.449 -73.978 -72.821 -69.946 -66.525 -45.652   0.   ]]\n",
      "\n",
      " [[-69.909 -78.259 -79.076 -79.38  -79.175 -78.867 -77.905 -76.487   0.      0.   ]\n",
      "  [-77.236 -79.193 -79.995 -80.369 -80.45  -80.444 -79.652 -77.609 -75.897   0.   ]\n",
      "  [-78.35  -80.042 -81.47  -83.506 -85.172 -85.202 -82.017 -78.612 -77.007  -2.053]\n",
      "  [-78.516 -80.508 -81.885 -84.072 -88.265 -88.277 -84.707 -79.71  -76.782 -71.789]\n",
      "  [-78.314 -80.533 -81.848 -83.303 -87.86  -87.851 -85.018 -80.203 -76.536 -72.99 ]\n",
      "  [-69.316 -79.778 -81.49  -82.672 -83.993 -84.339 -84.122 -79.237 -75.862 -72.493]\n",
      "  [  0.    -78.189 -80.493 -81.703 -82.602 -82.939 -81.71  -76.6   -73.96  -56.986]\n",
      "  [  0.      0.    -79.267 -80.971 -81.607 -81.626 -77.684 -72.748 -70.178   0.   ]\n",
      "  [  0.      0.     -2.97  -79.319 -80.655 -78.18  -73.062 -69.332 -55.727   0.   ]\n",
      "  [  0.      0.      0.      0.    -74.026 -72.796 -70.007 -66.521 -45.707   0.   ]]\n",
      "\n",
      " [[-69.956 -78.276 -79.075 -79.383 -79.182 -78.844 -77.849 -76.493   0.      0.   ]\n",
      "  [-77.211 -79.203 -79.997 -80.365 -80.453 -80.406 -79.323 -77.632 -75.912   0.   ]\n",
      "  [-78.36  -80.196 -81.469 -83.643 -85.173 -85.129 -82.405 -78.697 -76.524  -2.241]\n",
      "  [-78.522 -80.513 -81.877 -84.208 -88.283 -86.784 -84.147 -79.069 -75.664 -71.797]\n",
      "  [-78.352 -80.534 -81.849 -83.297 -87.911 -87.808 -84.835 -79.734 -76.076 -72.967]\n",
      "  [-69.242 -79.783 -81.419 -82.658 -84.044 -84.356 -84.128 -78.446 -75.078 -72.491]\n",
      "  [  0.    -78.17  -80.541 -81.743 -82.568 -82.956 -80.156 -75.957 -72.85  -56.907]\n",
      "  [  0.      0.    -79.263 -81.005 -81.604 -81.626 -77.821 -72.641 -70.092   0.   ]\n",
      "  [  0.      0.     -3.535 -79.388 -80.654 -77.294 -72.969 -68.568 -55.798   0.   ]\n",
      "  [  0.      0.      0.      0.    -73.786 -72.736 -69.881 -66.524 -45.501   0.   ]]]\n"
     ]
    },
    {
     "data": {
      "image/png": "[encoded data removed]",
      "text/plain": [
       "<Figure size 432x288 with 1 Axes>"
      ]
     },
     "metadata": {
      "needs_background": "light"
     },
     "output_type": "display_data"
    }
   ],
   "source": [
    "Q,scores = q_learning_discrete(env, 50000)\n",
    "plt.plot(scores); plt.title(\"Scores\");\n",
    "#env.close()"
   ]
  },
  {
   "cell_type": "code",
   "execution_count": 106,
   "metadata": {},
   "outputs": [
    {
     "data": {
      "image/png": "[encoded data removed]",
      "text/plain": [
       "<Figure size 432x288 with 1 Axes>"
      ]
     },
     "metadata": {
      "needs_background": "light"
     },
     "output_type": "display_data"
    }
   ],
   "source": [
    "def plot_scores(scores, rolling_window=100):\n",
    "    \"\"\"Plot scores and optional rolling mean using specified window.\"\"\"\n",
    "    plt.plot(scores); plt.title(\"Scores\");\n",
    "    rolling_mean = pd.Series(scores).rolling(rolling_window).mean()\n",
    "    plt.plot(rolling_mean);\n",
    "    return rolling_mean\n",
    "\n",
    "rolling_mean = plot_scores(scores)"
   ]
  },
  {
   "cell_type": "code",
   "execution_count": 102,
   "metadata": {},
   "outputs": [],
   "source": [
    "def test_algorithm(env, Q, bins = (10,10)):\n",
    "    \"\"\"\n",
    "    Test script for Q function\n",
    "    Args:\n",
    "    - env: Given environment to test Q function\n",
    "    - Q: Q function to verified\n",
    "    Returns:\n",
    "    - Total rewards for one episode\n",
    "    \"\"\"\n",
    "    state_grid = create_uniform_grid(env.observation_space.low, env.observation_space.high, bins)\n",
    "    state = env.reset()\n",
    "    discrete_state = np.array(discretize(state, state_grid)) \n",
    "    \n",
    "    total_reward = 0\n",
    "    scores = []\n",
    "    avg_score = 0\n",
    "    while True:\n",
    "        # selection the action with highest values i.e. best action\n",
    "        action = np.argmax(Q[:, discrete_state[0], discrete_state[1]])\n",
    "        # apply selected action\n",
    "        next_state, reward, done, _ = env.step(action)\n",
    "        next_state_discrete = np.array(discretize(next_state, state_grid))\n",
    "        \n",
    "        # render environment\n",
    "        env.render()\n",
    "        # calculate total reward\n",
    "        total_reward += reward\n",
    "        scores.append(total_reward)\n",
    "        if done:\n",
    "            print(total_reward)\n",
    "            break\n",
    "            \n",
    "        state = next_state\n",
    "        discrete_state = np.array(discretize(state, state_grid))\n",
    "\n",
    "        \n",
    "    avg_score = np.mean(scores)\n",
    "    print(\"avg score\" , avg_score)\n",
    "    return avg_score"
   ]
  },
  {
   "cell_type": "code",
   "execution_count": null,
   "metadata": {},
   "outputs": [],
   "source": []
  },
  {
   "cell_type": "code",
   "execution_count": 109,
   "metadata": {},
   "outputs": [
    {
     "name": "stdout",
     "output_type": "stream",
     "text": [
      "-157.0\n",
      "avg score -79.0\n"
     ]
    }
   ],
   "source": [
    "#test with default parameters\n",
    "test_algorithm(env, Q)\n",
    "env.close()"
   ]
  },
  {
   "cell_type": "code",
   "execution_count": 108,
   "metadata": {},
   "outputs": [
    {
     "name": "stdout",
     "output_type": "stream",
     "text": [
      "-158.0\n",
      "avg score -79.5\n"
     ]
    }
   ],
   "source": [
    "#test with default parameters\n",
    "test_algorithm(env, Q)\n",
    "env.close()"
   ]
  },
  {
   "cell_type": "code",
   "execution_count": null,
   "metadata": {},
   "outputs": [],
   "source": []
  }
 ],
 "metadata": {
  "kernelspec": {
   "display_name": "Python 3",
   "language": "python",
   "name": "python3"
  },
  "language_info": {
   "codemirror_mode": {
    "name": "ipython",
    "version": 3
   },
   "file_extension": ".py",
   "mimetype": "text/x-python",
   "name": "python",
   "nbconvert_exporter": "python",
   "pygments_lexer": "ipython3",
   "version": "3.7.3"
  }
 },
 "nbformat": 4,
 "nbformat_minor": 2
}
